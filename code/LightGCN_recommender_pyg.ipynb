{
 "cells": [
  {
   "cell_type": "markdown",
   "metadata": {},
   "source": [
    "#### Pytorch geometric 설치"
   ]
  },
  {
   "cell_type": "markdown",
   "metadata": {},
   "source": [
    "Install Pytorch Geometric"
   ]
  },
  {
   "cell_type": "code",
   "execution_count": 1,
   "metadata": {
    "id": "jgU1hvJ2Jqfi"
   },
   "outputs": [],
   "source": [
    "# # If you get a TORCH or CUDA version error, visit the below website and enter the appropriate version manually.\n",
    "# # https://pytorch-geometric.com/whl/\n",
    "# import torch\n",
    "\n",
    "# def format_pytorch_version(version):\n",
    "#     return version.split('+')[0]\n",
    "\n",
    "# TORCH_version = torch.__version__\n",
    "# TORCH = format_pytorch_version(TORCH_version)\n",
    "\n",
    "# def format_cuda_version(version):\n",
    "#     return 'cu' + version.replace('.', '')\n",
    "\n",
    "# CUDA_version = torch.version.cuda\n",
    "# CUDA = format_cuda_version(CUDA_version)\n",
    "\n",
    "# !pip install torch-scatter     -f https://pytorch-geometric.com/whl/torch-{TORCH}+{CUDA}.html\n",
    "# !pip install torch-sparse      -f https://pytorch-geometric.com/whl/torch-{TORCH}+{CUDA}.html\n",
    "# !pip install torch-cluster     -f https://pytorch-geometric.com/whl/torch-{TORCH}+{CUDA}.html\n",
    "# !pip install torch-spline-conv -f https://pytorch-geometric.com/whl/torch-{TORCH}+{CUDA}.html\n",
    "# !pip install torch-geometric "
   ]
  },
  {
   "cell_type": "markdown",
   "metadata": {},
   "source": [
    "#### 라이브러리 불러오기 "
   ]
  },
  {
   "cell_type": "code",
   "execution_count": 49,
   "metadata": {
    "executionInfo": {
     "elapsed": 585,
     "status": "ok",
     "timestamp": 1670763520646,
     "user": {
      "displayName": "Jicheol Kang",
      "userId": "04636124994992343301"
     },
     "user_tz": -540
    },
    "id": "HREi7rOBDd0M"
   },
   "outputs": [],
   "source": [
    "import os\n",
    "import random\n",
    "import pandas as pd\n",
    "import numpy as np\n",
    "from tqdm.auto import tqdm\n",
    "# from sklearn.model_selection import train_test_split\n",
    "\n",
    "import torch\n",
    "from torch import nn, optim, Tensor\n",
    "from torch_sparse import SparseTensor, matmul\n",
    "\n",
    "from torch_geometric.utils import negative_sampling, structured_negative_sampling\n",
    "from torch_geometric.data import DataLoader\n",
    "import torch.nn.functional as F\n",
    "from torch_geometric.nn.conv.gcn_conv import gcn_norm\n",
    "from torch_geometric.nn.conv import MessagePassing\n",
    "from torch_geometric.typing import Adj\n",
    "\n",
    "import warnings; warnings.filterwarnings('ignore')"
   ]
  },
  {
   "cell_type": "markdown",
   "metadata": {},
   "source": [
    "#### 데이터 불러오기 및 전처리"
   ]
  },
  {
   "cell_type": "code",
   "execution_count": 50,
   "metadata": {
    "executionInfo": {
     "elapsed": 347,
     "status": "ok",
     "timestamp": 1670763576130,
     "user": {
      "displayName": "Jicheol Kang",
      "userId": "04636124994992343301"
     },
     "user_tz": -540
    },
    "id": "Yx18ZDv8QMf-"
   },
   "outputs": [],
   "source": [
    "data_path = '../data/gowalla'\n",
    "# saved_path = './saved'"
   ]
  },
  {
   "cell_type": "code",
   "execution_count": 51,
   "metadata": {
    "executionInfo": {
     "elapsed": 373,
     "status": "ok",
     "timestamp": 1670768879391,
     "user": {
      "displayName": "Jicheol Kang",
      "userId": "04636124994992343301"
     },
     "user_tz": -540
    },
    "id": "q5o0ny-qlUCv"
   },
   "outputs": [],
   "source": [
    "train_file = data_path + '/gw_train.txt'\n",
    "test_file = data_path + '/gw_test.txt'"
   ]
  },
  {
   "cell_type": "code",
   "execution_count": 52,
   "metadata": {},
   "outputs": [],
   "source": [
    "user_list = data_path + '/gw_user_list.txt'\n",
    "item_list = data_path + '/gw_item_list.txt'"
   ]
  },
  {
   "cell_type": "code",
   "execution_count": 53,
   "metadata": {
    "executionInfo": {
     "elapsed": 1158,
     "status": "ok",
     "timestamp": 1670768808927,
     "user": {
      "displayName": "Jicheol Kang",
      "userId": "04636124994992343301"
     },
     "user_tz": -540
    },
    "id": "CjEpY9ANdIh5"
   },
   "outputs": [
    {
     "name": "stdout",
     "output_type": "stream",
     "text": [
      "torch.Size([2, 810128])\n"
     ]
    },
    {
     "data": {
      "text/plain": [
       "tensor([[    0,     0,     0,  ..., 29857, 29857, 29857],\n",
       "        [    0,     1,     2,  ...,  1853,   691,   674]])"
      ]
     },
     "execution_count": 53,
     "metadata": {},
     "output_type": "execute_result"
    }
   ],
   "source": [
    "train_edge_index = []\n",
    "with open(train_file) as f:\n",
    "    for row in f.readlines():\n",
    "        if len(row) > 0:\n",
    "            all = row.strip('\\n').split(' ')\n",
    "            id = int(all[0])\n",
    "            items = [int(i) for i in all[1:]]\n",
    "            for item in items:\n",
    "                train_edge_index.append([id, item])\n",
    "train_edge_index = torch.LongTensor(np.array(train_edge_index).T)\n",
    "print(train_edge_index.shape)\n",
    "train_edge_index"
   ]
  },
  {
   "cell_type": "code",
   "execution_count": 54,
   "metadata": {
    "colab": {
     "base_uri": "https://localhost:8080/"
    },
    "executionInfo": {
     "elapsed": 1147,
     "status": "ok",
     "timestamp": 1670769167306,
     "user": {
      "displayName": "Jicheol Kang",
      "userId": "04636124994992343301"
     },
     "user_tz": -540
    },
    "id": "LqzdWt1ylLCQ",
    "outputId": "d7bf83cf-e59c-4032-fb0e-207d29e581c1"
   },
   "outputs": [
    {
     "name": "stdout",
     "output_type": "stream",
     "text": [
      "torch.Size([2, 217242])\n"
     ]
    },
    {
     "data": {
      "text/plain": [
       "tensor([[    0,     0,     0,  ..., 29856, 29857, 29857],\n",
       "        [ 7580,  3730,  5983,  ...,  9923,   145,  5317]])"
      ]
     },
     "execution_count": 54,
     "metadata": {},
     "output_type": "execute_result"
    }
   ],
   "source": [
    "test_edge_index = []\n",
    "with open(test_file) as f:\n",
    "    for row in f.readlines():\n",
    "        if len(row) > 0:\n",
    "            all = row.strip('\\n').split(' ')\n",
    "            id = int(all[0])\n",
    "            items = [int(i) for i in all[1:]]\n",
    "            for item in items:\n",
    "                test_edge_index.append([id, item])\n",
    "test_edge_index = torch.LongTensor(np.array(test_edge_index).T)\n",
    "print(test_edge_index.shape)\n",
    "test_edge_index"
   ]
  },
  {
   "cell_type": "code",
   "execution_count": 55,
   "metadata": {},
   "outputs": [
    {
     "data": {
      "text/plain": [
       "tensor([[    0,     0,     0,  ..., 29856, 29857, 29857],\n",
       "        [    0,     1,     2,  ...,  9923,   145,  5317]])"
      ]
     },
     "execution_count": 55,
     "metadata": {},
     "output_type": "execute_result"
    }
   ],
   "source": [
    "edge_index = torch.cat((train_edge_index, test_edge_index), 1)\n",
    "edge_index"
   ]
  },
  {
   "cell_type": "code",
   "execution_count": 56,
   "metadata": {},
   "outputs": [
    {
     "name": "stdout",
     "output_type": "stream",
     "text": [
      "29858 40981\n"
     ]
    }
   ],
   "source": [
    "num_users = len(np.unique(edge_index[0]))\n",
    "num_items = len(np.unique(edge_index[1]))\n",
    "print(num_users, num_items)"
   ]
  },
  {
   "cell_type": "code",
   "execution_count": 57,
   "metadata": {
    "colab": {
     "base_uri": "https://localhost:8080/"
    },
    "executionInfo": {
     "elapsed": 348,
     "status": "ok",
     "timestamp": 1670769173262,
     "user": {
      "displayName": "Jicheol Kang",
      "userId": "04636124994992343301"
     },
     "user_tz": -540
    },
    "id": "BJIK_2ArRUKa",
    "outputId": "2655eef9-6fee-4e45-c98a-6f6a9b466db9"
   },
   "outputs": [
    {
     "name": "stdout",
     "output_type": "stream",
     "text": [
      "torch.Size([2, 810128])\n",
      "torch.Size([2, 217242])\n"
     ]
    }
   ],
   "source": [
    "print(train_edge_index.shape)\n",
    "print(test_edge_index.shape)"
   ]
  },
  {
   "cell_type": "code",
   "execution_count": 58,
   "metadata": {
    "executionInfo": {
     "elapsed": 597,
     "status": "ok",
     "timestamp": 1670769529167,
     "user": {
      "displayName": "Jicheol Kang",
      "userId": "04636124994992343301"
     },
     "user_tz": -540
    },
    "id": "-igXXmEuLD8h"
   },
   "outputs": [],
   "source": [
    "train_sparse_edge_index = SparseTensor(row=train_edge_index[0], col=train_edge_index[1]+num_users, \n",
    "                                       sparse_sizes=(num_users + num_items, num_users + num_items))\n",
    "test_sparse_edge_index = SparseTensor(row=test_edge_index[0], col=test_edge_index[1]+num_users, \n",
    "                                     sparse_sizes=(num_users + num_items, num_users + num_items))"
   ]
  },
  {
   "cell_type": "code",
   "execution_count": 59,
   "metadata": {
    "colab": {
     "base_uri": "https://localhost:8080/"
    },
    "executionInfo": {
     "elapsed": 352,
     "status": "ok",
     "timestamp": 1670769533483,
     "user": {
      "displayName": "Jicheol Kang",
      "userId": "04636124994992343301"
     },
     "user_tz": -540
    },
    "id": "SO6l5UpPscc3",
    "outputId": "31ba4101-730b-4ee5-dd0a-f3236ec2cb3d"
   },
   "outputs": [
    {
     "name": "stdout",
     "output_type": "stream",
     "text": [
      "SparseTensor(row=tensor([    0,     0,     0,  ..., 29857, 29857, 29857]),\n",
      "             col=tensor([29858, 29859, 29860,  ..., 31711, 41615, 43040]),\n",
      "             size=(70839, 70839), nnz=810128, density=0.02%)\n",
      "SparseTensor(row=tensor([    0,     0,     0,  ..., 29856, 29857, 29857]),\n",
      "             col=tensor([31071, 31073, 31075,  ..., 45074, 30003, 35175]),\n",
      "             size=(70839, 70839), nnz=217242, density=0.00%)\n"
     ]
    }
   ],
   "source": [
    "print(train_sparse_edge_index)\n",
    "print(test_sparse_edge_index)"
   ]
  },
  {
   "cell_type": "markdown",
   "metadata": {
    "id": "cs7i5np6Jgy5"
   },
   "source": [
    "#### 모델 정의"
   ]
  },
  {
   "cell_type": "code",
   "execution_count": 60,
   "metadata": {
    "executionInfo": {
     "elapsed": 769,
     "status": "ok",
     "timestamp": 1670769543387,
     "user": {
      "displayName": "Jicheol Kang",
      "userId": "04636124994992343301"
     },
     "user_tz": -540
    },
    "id": "BFrH7DlQFxUv"
   },
   "outputs": [],
   "source": [
    "embedding_dim =128\n",
    "num_layers = 3"
   ]
  },
  {
   "cell_type": "code",
   "execution_count": 61,
   "metadata": {
    "executionInfo": {
     "elapsed": 2,
     "status": "ok",
     "timestamp": 1670769544447,
     "user": {
      "displayName": "Jicheol Kang",
      "userId": "04636124994992343301"
     },
     "user_tz": -540
    },
    "id": "BYQXpyOpLNV3"
   },
   "outputs": [],
   "source": [
    "class LightGCN(MessagePassing):\n",
    "    def __init__(self, num_users, num_items, embedding_dim=embedding_dim, K=num_layers, add_self_loops=False):\n",
    "        \n",
    "        super().__init__()\n",
    "        self.num_users, self.num_items = num_users, num_items\n",
    "        self.embedding_dim, self.K = embedding_dim, K\n",
    "        self.add_self_loops = add_self_loops\n",
    "\n",
    "        self.users_emb = nn.Embedding(num_embeddings=self.num_users, embedding_dim=self.embedding_dim) # e_u^0\n",
    "        self.items_emb = nn.Embedding(num_embeddings=self.num_items, embedding_dim=self.embedding_dim) # e_i^0\n",
    "        \n",
    "        nn.init.normal_(self.users_emb.weight, std=0.1)\n",
    "        nn.init.normal_(self.items_emb.weight, std=0.1)\n",
    "\n",
    "    def forward(self, edge_index: SparseTensor):\n",
    "        \n",
    "        edge_index_norm = gcn_norm(edge_index, add_self_loops=self.add_self_loops)\n",
    "        emb_0 = torch.cat([self.users_emb.weight, self.items_emb.weight])\n",
    "        embs = [emb_0]\n",
    "        emb_k = emb_0\n",
    "\n",
    "        for i in range(self.K):\n",
    "            emb_k = self.propagate(edge_index_norm, x=emb_k)\n",
    "            embs.append(emb_k)\n",
    "\n",
    "        embs = torch.stack(embs, dim=1)\n",
    "        emb_final = torch.mean(embs, dim=1)\n",
    "        users_emb_final, items_emb_final = torch.split(emb_final, [self.num_users, self.num_items]) \n",
    "        return users_emb_final, self.users_emb.weight, items_emb_final, self.items_emb.weight\n",
    "\n",
    "    def message(self, x_j: Tensor) -> Tensor:\n",
    "        return x_j\n",
    "\n",
    "    def message_and_aggregate(self, adj_t: SparseTensor, x: Tensor) -> Tensor:\n",
    "        return matmul(adj_t, x)"
   ]
  },
  {
   "cell_type": "markdown",
   "metadata": {},
   "source": [
    "#### 손실 함수 정의"
   ]
  },
  {
   "cell_type": "code",
   "execution_count": 62,
   "metadata": {
    "executionInfo": {
     "elapsed": 2,
     "status": "ok",
     "timestamp": 1670769546152,
     "user": {
      "displayName": "Jicheol Kang",
      "userId": "04636124994992343301"
     },
     "user_tz": -540
    },
    "id": "LM0f6E0NLN5R"
   },
   "outputs": [],
   "source": [
    "def bpr_loss(users_emb_final, users_emb_0, pos_items_emb_final, pos_items_emb_0, neg_items_emb_final, neg_items_emb_0, lambda_):\n",
    "    reg_loss = lambda_ * (users_emb_0.norm(2).pow(2) +\n",
    "                          pos_items_emb_0.norm(2).pow(2) +\n",
    "                          neg_items_emb_0.norm(2).pow(2)) # L2 loss\n",
    "\n",
    "    pos_scores = torch.mul(users_emb_final, pos_items_emb_final)\n",
    "    pos_scores = torch.sum(pos_scores, dim=-1)\n",
    "    neg_scores = torch.mul(users_emb_final, neg_items_emb_final)\n",
    "    neg_scores = torch.sum(neg_scores, dim=-1)\n",
    "    \n",
    "    loss = -F.logsigmoid(pos_scores - neg_scores).sum() + reg_loss\n",
    "    \n",
    "    return loss"
   ]
  },
  {
   "cell_type": "markdown",
   "metadata": {
    "executionInfo": {
     "elapsed": 1,
     "status": "ok",
     "timestamp": 1670769547074,
     "user": {
      "displayName": "Jicheol Kang",
      "userId": "04636124994992343301"
     },
     "user_tz": -540
    },
    "id": "CsifG0K9LQF5"
   },
   "source": [
    "#### 평가 지표 정의\n",
    "- 이미 사용한 item은 검증할 때 제외해 주어야 함(exclude_edge_index).\n",
    "- 해당 user-item 쌍이 추천되지 않도록 score matrix에 인위적으로 낮은 값(-(1 << 10))을 부여.\n",
    "- r 변수 계산에 시간이 오래 걸려, 추후 개선이 필요해 보임.\n",
    "- torch.matmul이 시간이 오래 걸릴 경우 임베딩을 cpu로 detach 후 np.matmul로 대체. "
   ]
  },
  {
   "cell_type": "code",
   "execution_count": 63,
   "metadata": {
    "executionInfo": {
     "elapsed": 516,
     "status": "ok",
     "timestamp": 1670769548138,
     "user": {
      "displayName": "Jicheol Kang",
      "userId": "04636124994992343301"
     },
     "user_tz": -540
    },
    "id": "L09S7j1XLR9p"
   },
   "outputs": [],
   "source": [
    "def RecallPrecision_at_K(groundTruth, r, k):\n",
    "    num_correct_pred = torch.sum(r, dim=-1)\n",
    "    user_num_liked = torch.Tensor([len(groundTruth[i]) for i in range(len(groundTruth))])\n",
    "    recall = torch.mean(num_correct_pred / user_num_liked)\n",
    "    precision = torch.mean(num_correct_pred) / k\n",
    "    \n",
    "    return recall.item(), precision.item()"
   ]
  },
  {
   "cell_type": "code",
   "execution_count": 64,
   "metadata": {
    "executionInfo": {
     "elapsed": 3,
     "status": "ok",
     "timestamp": 1670769549115,
     "user": {
      "displayName": "Jicheol Kang",
      "userId": "04636124994992343301"
     },
     "user_tz": -540
    },
    "id": "7Etb9Zu3LUTp"
   },
   "outputs": [],
   "source": [
    "def NDCG_at_K(groundTruth, r, k):\n",
    "    assert len(r) == len(groundTruth)\n",
    "    test_matrix = torch.zeros((len(r), k))\n",
    "    for i, items in enumerate(groundTruth):\n",
    "        length = min(len(items), k)\n",
    "        test_matrix[i, :length] = 1\n",
    "    max_r = test_matrix\n",
    "    idcg = torch.sum(max_r * 1. / torch.log2(torch.arange(2, k + 2)), axis=1)\n",
    "    dcg = r * (1. / torch.log2(torch.arange(2, k + 2)))\n",
    "    dcg = torch.sum(dcg, axis=1)\n",
    "    idcg[idcg == 0.] = 1.\n",
    "    ndcg = dcg / idcg\n",
    "    ndcg[torch.isnan(ndcg)] = 0.\n",
    "    \n",
    "    return torch.mean(ndcg).item()"
   ]
  },
  {
   "cell_type": "code",
   "execution_count": 65,
   "metadata": {},
   "outputs": [],
   "source": [
    "def get_user_positive_items(edge_index):\n",
    "    user_pos_items = {}\n",
    "    for i in range(edge_index.shape[1]):\n",
    "        user = edge_index[0][i].item()\n",
    "        item = edge_index[1][i].item()\n",
    "        if user not in user_pos_items:\n",
    "            user_pos_items[user] = []\n",
    "        user_pos_items[user].append(item)\n",
    "        \n",
    "    return user_pos_items"
   ]
  },
  {
   "cell_type": "code",
   "execution_count": 66,
   "metadata": {
    "executionInfo": {
     "elapsed": 2,
     "status": "ok",
     "timestamp": 1670769550126,
     "user": {
      "displayName": "Jicheol Kang",
      "userId": "04636124994992343301"
     },
     "user_tz": -540
    },
    "id": "bQ6OSP1zLW06"
   },
   "outputs": [],
   "source": [
    "def get_metrics(model, edge_index, sparse_edge_index, exclude_edge_index, k):\n",
    "    \n",
    "    user_embedding, _, item_embedding, _  = model.forward(sparse_edge_index)\n",
    "    \n",
    "    user_embedding = np.array(user_embedding.cpu().detach().numpy())\n",
    "    item_embedding = np.array(item_embedding.cpu().detach().numpy())\n",
    "                  \n",
    "    rating = torch.tensor(np.matmul(user_embedding, item_embedding.T))\n",
    "    \n",
    "    user_pos_items = get_user_positive_items(exclude_edge_index)\n",
    "    exclude_users = []\n",
    "    exclude_items = []\n",
    "    for user, items in user_pos_items.items():\n",
    "        exclude_users.extend([user] * len(items))\n",
    "        exclude_items.extend(items)\n",
    "    rating[exclude_users, exclude_items] = -(1 << 10)\n",
    "    \n",
    "    _, top_K_items = torch.topk(rating, k=k)\n",
    "    \n",
    "    users = edge_index[0].unique()\n",
    "    test_user_pos_items = get_user_positive_items(edge_index)\n",
    "    test_user_pos_items_list = [test_user_pos_items[user.item()] for user in users]\n",
    "    \n",
    "    r = []\n",
    "    for user in users:\n",
    "        ground_truth_items = test_user_pos_items[user.item()]\n",
    "        label = list(map(lambda x: x in ground_truth_items, top_K_items[user]))\n",
    "        r.append(label)\n",
    "    r = torch.Tensor(np.array(r).astype('float'))\n",
    "    \n",
    "    recall, precision = RecallPrecision_at_K(test_user_pos_items_list, r, k)\n",
    "    ndcg = NDCG_at_K(test_user_pos_items_list, r, k)\n",
    "\n",
    "    return recall, precision, ndcg"
   ]
  },
  {
   "cell_type": "code",
   "execution_count": 67,
   "metadata": {
    "executionInfo": {
     "elapsed": 3,
     "status": "ok",
     "timestamp": 1670769550466,
     "user": {
      "displayName": "Jicheol Kang",
      "userId": "04636124994992343301"
     },
     "user_tz": -540
    },
    "id": "pEzLRCU4LYRR"
   },
   "outputs": [],
   "source": [
    "def evaluation(model, edge_index, sparse_edge_index, exclude_edge_indices, k):\n",
    "    \n",
    "    users_emb_final, users_emb_0, items_emb_final, items_emb_0 = model.forward(sparse_edge_index)\n",
    "    neg_edges = negative_sampling(edge_index, num_nodes=[num_users, num_items], num_neg_samples=edge_index.shape[1])\n",
    "\n",
    "    user_indices, pos_item_indices, neg_item_indices = edge_index[0], edge_index[1], neg_edges[1]\n",
    "    users_emb_final, users_emb_0 = users_emb_final[user_indices], users_emb_0[user_indices]\n",
    "\n",
    "    pos_items_emb_final, pos_items_emb_0 = items_emb_final[pos_item_indices], items_emb_0[pos_item_indices]\n",
    "    neg_items_emb_final, neg_items_emb_0 = items_emb_final[neg_item_indices], items_emb_0[neg_item_indices]\n",
    "\n",
    "    recall, precision, ndcg = get_metrics(model, edge_index, sparse_edge_index, exclude_edge_indices, k)\n",
    "\n",
    "    return recall, precision, ndcg"
   ]
  },
  {
   "cell_type": "markdown",
   "metadata": {},
   "source": [
    "#### 학습 파라미터 설정\n",
    "- batch_size는 메모리가 허용하는 한 크게 하는 것이 학습 속도를 빠르게 할 수 있음.\n",
    "- evaluation 시간이 오래 걸리므로, 모델이 정상 작동하는 것을 확인했으면 check_step은 적당히 큰 값을 주는 것이 좋음."
   ]
  },
  {
   "cell_type": "code",
   "execution_count": 68,
   "metadata": {
    "executionInfo": {
     "elapsed": 562,
     "status": "ok",
     "timestamp": 1670769846614,
     "user": {
      "displayName": "Jicheol Kang",
      "userId": "04636124994992343301"
     },
     "user_tz": -540
    },
    "id": "TUEDNyuYLaFe"
   },
   "outputs": [],
   "source": [
    "epochs = 150\n",
    "check_step = 10\n",
    "batch_size = 2**14\n",
    "lr = 0.01\n",
    "K = 25\n",
    "lambda_ = 1e-5"
   ]
  },
  {
   "cell_type": "code",
   "execution_count": 69,
   "metadata": {
    "executionInfo": {
     "elapsed": 4,
     "status": "ok",
     "timestamp": 1670769848748,
     "user": {
      "displayName": "Jicheol Kang",
      "userId": "04636124994992343301"
     },
     "user_tz": -540
    },
    "id": "iudeRlrGVP7r"
   },
   "outputs": [],
   "source": [
    "model = LightGCN(num_users, num_items)\n",
    "optimizer = optim.Adam(model.parameters(), lr=lr)"
   ]
  },
  {
   "cell_type": "code",
   "execution_count": 70,
   "metadata": {
    "colab": {
     "base_uri": "https://localhost:8080/"
    },
    "executionInfo": {
     "elapsed": 2,
     "status": "ok",
     "timestamp": 1670769850596,
     "user": {
      "displayName": "Jicheol Kang",
      "userId": "04636124994992343301"
     },
     "user_tz": -540
    },
    "id": "4Au8k2ImLbhK",
    "outputId": "06eeb06e-1d1a-449a-dc51-a0c3a8777a15"
   },
   "outputs": [
    {
     "name": "stdout",
     "output_type": "stream",
     "text": [
      "Using device cuda.\n"
     ]
    }
   ],
   "source": [
    "device = torch.device('cuda' if torch.cuda.is_available() else 'cpu')\n",
    "print(f\"Using device {device}.\")\n",
    "\n",
    "model = model.to(device)\n",
    "\n",
    "train_edge_index = train_edge_index.to(device)\n",
    "train_sparse_edge_index = train_sparse_edge_index.to(device)\n",
    "\n",
    "test_edge_index = test_edge_index.to(device)\n",
    "test_sparse_edge_index = test_sparse_edge_index.to(device)"
   ]
  },
  {
   "cell_type": "markdown",
   "metadata": {},
   "source": [
    "#### 학습 수행"
   ]
  },
  {
   "cell_type": "code",
   "execution_count": 71,
   "metadata": {
    "colab": {
     "base_uri": "https://localhost:8080/",
     "height": 461,
     "referenced_widgets": [
      "1a6629dbd441421da583c2e5ab342428",
      "3d23b70097264c679c6d54bd76cc7a2a",
      "b1ab92c25ac1449b9debdfecf7c6e3b1",
      "0f6e0846b0d2489ab66e5e9887a1c23c",
      "4e911f1d114e41df9a9c0a7ff42c3e17",
      "58dedeeada9e40eca8311fc04c39d540",
      "ada4da4ed9ce4380bfc7f35c7efdb6e7",
      "b12ecbc67c554578b696eb0327915282",
      "fc7d6639af4d4e87a35444ac2e02c907",
      "eab3617fa0534b35a6b95b647ed4719d",
      "840544f958e3433e814714702eaf5374"
     ]
    },
    "executionInfo": {
     "elapsed": 103440,
     "status": "error",
     "timestamp": 1670769955904,
     "user": {
      "displayName": "Jicheol Kang",
      "userId": "04636124994992343301"
     },
     "user_tz": -540
    },
    "id": "0qpjKg_0LcvK",
    "outputId": "bfc944a1-117d-4e8b-8029-8d1d047982f8"
   },
   "outputs": [
    {
     "data": {
      "application/vnd.jupyter.widget-view+json": {
       "model_id": "ec027e147e55413e95837306989d999e",
       "version_major": 2,
       "version_minor": 0
      },
      "text/plain": [
       "  0%|          | 0/150 [00:00<?, ?it/s]"
      ]
     },
     "metadata": {},
     "output_type": "display_data"
    },
    {
     "name": "stdout",
     "output_type": "stream",
     "text": [
      "[010/150] | loss: 1035.721968 | recall@25: 0.152889 | precision@25: 0.037989 | ndcg@25: 0.123450 | score: 0.145529\n",
      "[020/150] | loss: 548.336195 | recall@25: 0.159274 | precision@25: 0.039405 | ndcg@25: 0.126927 | score: 0.151187\n",
      "[030/150] | loss: 402.808467 | recall@25: 0.158863 | precision@25: 0.039169 | ndcg@25: 0.124941 | score: 0.150382\n",
      "[040/150] | loss: 337.066671 | recall@25: 0.159686 | precision@25: 0.039080 | ndcg@25: 0.123266 | score: 0.150581\n",
      "[050/150] | loss: 295.500232 | recall@25: 0.158011 | precision@25: 0.038664 | ndcg@25: 0.121444 | score: 0.148869\n",
      "[060/150] | loss: 273.508620 | recall@25: 0.158883 | precision@25: 0.038755 | ndcg@25: 0.120868 | score: 0.149379\n",
      "[070/150] | loss: 259.865804 | recall@25: 0.158319 | precision@25: 0.038449 | ndcg@25: 0.119739 | score: 0.148674\n",
      "[080/150] | loss: 248.414511 | recall@25: 0.157474 | precision@25: 0.038181 | ndcg@25: 0.117385 | score: 0.147452\n",
      "[090/150] | loss: 240.233991 | recall@25: 0.156215 | precision@25: 0.037862 | ndcg@25: 0.116269 | score: 0.146228\n",
      "[100/150] | loss: 235.065505 | recall@25: 0.156131 | precision@25: 0.037690 | ndcg@25: 0.116260 | score: 0.146163\n",
      "[110/150] | loss: 229.263220 | recall@25: 0.153650 | precision@25: 0.037114 | ndcg@25: 0.112583 | score: 0.143384\n",
      "[120/150] | loss: 227.450925 | recall@25: 0.153826 | precision@25: 0.037161 | ndcg@25: 0.113204 | score: 0.143671\n",
      "[130/150] | loss: 223.077614 | recall@25: 0.155087 | precision@25: 0.037361 | ndcg@25: 0.113868 | score: 0.144782\n",
      "[140/150] | loss: 221.904393 | recall@25: 0.154762 | precision@25: 0.037295 | ndcg@25: 0.113999 | score: 0.144571\n",
      "[150/150] | loss: 218.133173 | recall@25: 0.153697 | precision@25: 0.037146 | ndcg@25: 0.112947 | score: 0.143510\n",
      "Wall time: 55min 55s\n"
     ]
    }
   ],
   "source": [
    "%%time\n",
    "max_score = 0\n",
    "for epoch in tqdm(range(1, epochs+1)):\n",
    "    \n",
    "    model.train()\n",
    "    trn_loader = DataLoader(train_edge_index.T, batch_size, shuffle=True)\n",
    "    trn_loss = 0\n",
    "    \n",
    "    for batch_pos_edges in trn_loader:\n",
    "        \n",
    "        users_emb_final, users_emb_0, items_emb_final, items_emb_0 = model.forward(train_sparse_edge_index)\n",
    "        \n",
    "        batch_pos_edges = batch_pos_edges.T\n",
    "        batch_neg_edges = negative_sampling(edge_index, num_nodes=[num_users, num_items], num_neg_samples=batch_pos_edges.shape[1])\n",
    "        \n",
    "        user_indices, pos_item_indices, neg_item_indices = batch_pos_edges[0].to(device), batch_pos_edges[1].to(device), batch_neg_edges[1].to(device)\n",
    "        \n",
    "        users_emb_final, users_emb_0 = users_emb_final[user_indices], users_emb_0[user_indices]\n",
    "        pos_items_emb_final, pos_items_emb_0 = items_emb_final[pos_item_indices], items_emb_0[pos_item_indices]\n",
    "        neg_items_emb_final, neg_items_emb_0 = items_emb_final[neg_item_indices], items_emb_0[neg_item_indices]\n",
    "        \n",
    "        loss = bpr_loss(users_emb_final, users_emb_0, pos_items_emb_final, pos_items_emb_0, neg_items_emb_final, neg_items_emb_0, lambda_)\n",
    "        \n",
    "        optimizer.zero_grad()\n",
    "        loss.backward()\n",
    "        optimizer.step()\n",
    "        torch.nn.utils.clip_grad_norm_(model.parameters(), 1.0) # optional\n",
    "        \n",
    "        trn_loss += loss.item()\n",
    "        \n",
    "    trn_loss = trn_loss / len(trn_loader)\n",
    "    \n",
    "    if epoch != 0 and epoch % check_step == 0:\n",
    "        model.eval()\n",
    "        recall, precision, ndcg = evaluation(model, test_edge_index, test_sparse_edge_index, train_edge_index, K)\n",
    "        score = 0.75 * recall + 0.25 * ndcg\n",
    "        \n",
    "        if score > max_score:\n",
    "            max_score = score\n",
    "            # torch.save(model.state_dict(), os.path.join(saved_path, 'LightGCN_best_score.pt'))\n",
    "        model = model.to(device) # in case np.matmul is used in 'get_metrics' function instead of torch.matmul.\n",
    "            \n",
    "        print(f'[{epoch:03d}/{epochs}] | loss: {trn_loss:.6f} | recall@{K}: {recall:.6f} | '\n",
    "              f'precision@{K}: {precision:.6f} | ndcg@{K}: {ndcg:.6f} | score: {score:.6f}')"
   ]
  },
  {
   "cell_type": "markdown",
   "metadata": {},
   "source": [
    "#### 추천 수행"
   ]
  },
  {
   "cell_type": "code",
   "execution_count": 72,
   "metadata": {},
   "outputs": [],
   "source": [
    "# model.load_state_dict(torch.load(os.path.join(saved_path, 'LightGCN_best_score.pt')))"
   ]
  },
  {
   "cell_type": "code",
   "execution_count": 73,
   "metadata": {},
   "outputs": [],
   "source": [
    "edge_index = edge_index.to(device)"
   ]
  },
  {
   "cell_type": "code",
   "execution_count": 74,
   "metadata": {},
   "outputs": [],
   "source": [
    "model.eval()\n",
    "user_pos_items = get_user_positive_items(edge_index)"
   ]
  },
  {
   "cell_type": "code",
   "execution_count": 75,
   "metadata": {},
   "outputs": [],
   "source": [
    "user_to_idx = {}\n",
    "with open(user_list) as f:\n",
    "    for row in f.readlines():\n",
    "        user_id, idx = row.strip('\\n').split(' ')\n",
    "        user_to_idx[int(user_id)] = int(idx)"
   ]
  },
  {
   "cell_type": "code",
   "execution_count": 76,
   "metadata": {},
   "outputs": [],
   "source": [
    "idx_to_item = {}\n",
    "with open(item_list) as f:\n",
    "    for row in f.readlines():\n",
    "        item_id, idx = row.strip('\\n').split(' ')\n",
    "        idx_to_item[int(idx)] = int(item_id)"
   ]
  },
  {
   "cell_type": "code",
   "execution_count": 77,
   "metadata": {},
   "outputs": [],
   "source": [
    "user_id = 5258\n",
    "rec_k = 10"
   ]
  },
  {
   "cell_type": "code",
   "execution_count": 78,
   "metadata": {},
   "outputs": [],
   "source": [
    "def make_predictions(user_id, num_recs):\n",
    "    user = user_to_idx[user_id]\n",
    "    # e_u = model.users_emb.weight[user]\n",
    "    # i_u = model.items_emb.weight\n",
    "    e_u = np.array(model.users_emb.weight.cpu().detach().numpy())[user] # detach if error occured\n",
    "    i_u = np.array(model.items_emb.weight.cpu().detach().numpy())\n",
    "    # scores = model.items_emb.weight @ e_u\n",
    "    scores = torch.tensor(i_u @ e_u)\n",
    "\n",
    "    exclude_items = user_pos_items[user]\n",
    "    scores[exclude_items] = -(1 << 10)\n",
    "    values, indices = torch.topk(scores, k=num_recs)\n",
    "    rec_item_list = [str(idx_to_item[i]) for i in indices.cpu().numpy()]\n",
    "    return rec_item_list"
   ]
  },
  {
   "cell_type": "code",
   "execution_count": 79,
   "metadata": {},
   "outputs": [],
   "source": [
    "rec_item_list = ', '.join(make_predictions(user_id, rec_k))"
   ]
  },
  {
   "cell_type": "code",
   "execution_count": 80,
   "metadata": {},
   "outputs": [
    {
     "name": "stdout",
     "output_type": "stream",
     "text": [
      "10 Recommended items for user 5258:\n",
      "\n",
      "207515, 57155, 9116, 21557, 15400, 960336, 24860, 19855, 10082, 9310\n"
     ]
    }
   ],
   "source": [
    "print(f'{rec_k} Recommended items for user {user_id}:\\n\\n{rec_item_list}')"
   ]
  },
  {
   "cell_type": "code",
   "execution_count": null,
   "metadata": {},
   "outputs": [],
   "source": []
  }
 ],
 "metadata": {
  "accelerator": "GPU",
  "colab": {
   "machine_shape": "hm",
   "provenance": []
  },
  "gpuClass": "premium",
  "kernelspec": {
   "display_name": "Python 3 (ipykernel)",
   "language": "python",
   "name": "python3"
  },
  "language_info": {
   "codemirror_mode": {
    "name": "ipython",
    "version": 3
   },
   "file_extension": ".py",
   "mimetype": "text/x-python",
   "name": "python",
   "nbconvert_exporter": "python",
   "pygments_lexer": "ipython3",
   "version": "3.11.5"
  },
  "widgets": {
   "application/vnd.jupyter.widget-state+json": {
    "0f6e0846b0d2489ab66e5e9887a1c23c": {
     "model_module": "@jupyter-widgets/controls",
     "model_module_version": "1.5.0",
     "model_name": "HTMLModel",
     "state": {
      "_dom_classes": [],
      "_model_module": "@jupyter-widgets/controls",
      "_model_module_version": "1.5.0",
      "_model_name": "HTMLModel",
      "_view_count": null,
      "_view_module": "@jupyter-widgets/controls",
      "_view_module_version": "1.5.0",
      "_view_name": "HTMLView",
      "description": "",
      "description_tooltip": null,
      "layout": "IPY_MODEL_eab3617fa0534b35a6b95b647ed4719d",
      "placeholder": "​",
      "style": "IPY_MODEL_840544f958e3433e814714702eaf5374",
      "value": " 200/1000 [01:43&lt;06:33,  2.04it/s]"
     }
    },
    "10449cf9f0c84d14a895bb6bf62c750f": {
     "model_module": "@jupyter-widgets/controls",
     "model_module_version": "1.5.0",
     "model_name": "HTMLModel",
     "state": {
      "_dom_classes": [],
      "_model_module": "@jupyter-widgets/controls",
      "_model_module_version": "1.5.0",
      "_model_name": "HTMLModel",
      "_view_count": null,
      "_view_module": "@jupyter-widgets/controls",
      "_view_module_version": "1.5.0",
      "_view_name": "HTMLView",
      "description": "",
      "description_tooltip": null,
      "layout": "IPY_MODEL_cc362ac2a8124c0e83861cad0cace327",
      "placeholder": "​",
      "style": "IPY_MODEL_ba7b54f9a196454a8ce7d4170b42d970",
      "value": " 8311/8311 [00:03&lt;00:00, 2721.64it/s]"
     }
    },
    "1a6629dbd441421da583c2e5ab342428": {
     "model_module": "@jupyter-widgets/controls",
     "model_module_version": "1.5.0",
     "model_name": "HBoxModel",
     "state": {
      "_dom_classes": [],
      "_model_module": "@jupyter-widgets/controls",
      "_model_module_version": "1.5.0",
      "_model_name": "HBoxModel",
      "_view_count": null,
      "_view_module": "@jupyter-widgets/controls",
      "_view_module_version": "1.5.0",
      "_view_name": "HBoxView",
      "box_style": "",
      "children": [
       "IPY_MODEL_3d23b70097264c679c6d54bd76cc7a2a",
       "IPY_MODEL_b1ab92c25ac1449b9debdfecf7c6e3b1",
       "IPY_MODEL_0f6e0846b0d2489ab66e5e9887a1c23c"
      ],
      "layout": "IPY_MODEL_4e911f1d114e41df9a9c0a7ff42c3e17"
     }
    },
    "3c50174aae0c44259ebba1a28f18044e": {
     "model_module": "@jupyter-widgets/controls",
     "model_module_version": "1.5.0",
     "model_name": "HTMLModel",
     "state": {
      "_dom_classes": [],
      "_model_module": "@jupyter-widgets/controls",
      "_model_module_version": "1.5.0",
      "_model_name": "HTMLModel",
      "_view_count": null,
      "_view_module": "@jupyter-widgets/controls",
      "_view_module_version": "1.5.0",
      "_view_name": "HTMLView",
      "description": "",
      "description_tooltip": null,
      "layout": "IPY_MODEL_f2bda8a268cb414ebff8d5d373639439",
      "placeholder": "​",
      "style": "IPY_MODEL_8cfda371cb7041c8a737052d2f450966",
      "value": "100%"
     }
    },
    "3d23b70097264c679c6d54bd76cc7a2a": {
     "model_module": "@jupyter-widgets/controls",
     "model_module_version": "1.5.0",
     "model_name": "HTMLModel",
     "state": {
      "_dom_classes": [],
      "_model_module": "@jupyter-widgets/controls",
      "_model_module_version": "1.5.0",
      "_model_name": "HTMLModel",
      "_view_count": null,
      "_view_module": "@jupyter-widgets/controls",
      "_view_module_version": "1.5.0",
      "_view_name": "HTMLView",
      "description": "",
      "description_tooltip": null,
      "layout": "IPY_MODEL_58dedeeada9e40eca8311fc04c39d540",
      "placeholder": "​",
      "style": "IPY_MODEL_ada4da4ed9ce4380bfc7f35c7efdb6e7",
      "value": " 20%"
     }
    },
    "4e911f1d114e41df9a9c0a7ff42c3e17": {
     "model_module": "@jupyter-widgets/base",
     "model_module_version": "1.2.0",
     "model_name": "LayoutModel",
     "state": {
      "_model_module": "@jupyter-widgets/base",
      "_model_module_version": "1.2.0",
      "_model_name": "LayoutModel",
      "_view_count": null,
      "_view_module": "@jupyter-widgets/base",
      "_view_module_version": "1.2.0",
      "_view_name": "LayoutView",
      "align_content": null,
      "align_items": null,
      "align_self": null,
      "border": null,
      "bottom": null,
      "display": null,
      "flex": null,
      "flex_flow": null,
      "grid_area": null,
      "grid_auto_columns": null,
      "grid_auto_flow": null,
      "grid_auto_rows": null,
      "grid_column": null,
      "grid_gap": null,
      "grid_row": null,
      "grid_template_areas": null,
      "grid_template_columns": null,
      "grid_template_rows": null,
      "height": null,
      "justify_content": null,
      "justify_items": null,
      "left": null,
      "margin": null,
      "max_height": null,
      "max_width": null,
      "min_height": null,
      "min_width": null,
      "object_fit": null,
      "object_position": null,
      "order": null,
      "overflow": null,
      "overflow_x": null,
      "overflow_y": null,
      "padding": null,
      "right": null,
      "top": null,
      "visibility": null,
      "width": null
     }
    },
    "58dedeeada9e40eca8311fc04c39d540": {
     "model_module": "@jupyter-widgets/base",
     "model_module_version": "1.2.0",
     "model_name": "LayoutModel",
     "state": {
      "_model_module": "@jupyter-widgets/base",
      "_model_module_version": "1.2.0",
      "_model_name": "LayoutModel",
      "_view_count": null,
      "_view_module": "@jupyter-widgets/base",
      "_view_module_version": "1.2.0",
      "_view_name": "LayoutView",
      "align_content": null,
      "align_items": null,
      "align_self": null,
      "border": null,
      "bottom": null,
      "display": null,
      "flex": null,
      "flex_flow": null,
      "grid_area": null,
      "grid_auto_columns": null,
      "grid_auto_flow": null,
      "grid_auto_rows": null,
      "grid_column": null,
      "grid_gap": null,
      "grid_row": null,
      "grid_template_areas": null,
      "grid_template_columns": null,
      "grid_template_rows": null,
      "height": null,
      "justify_content": null,
      "justify_items": null,
      "left": null,
      "margin": null,
      "max_height": null,
      "max_width": null,
      "min_height": null,
      "min_width": null,
      "object_fit": null,
      "object_position": null,
      "order": null,
      "overflow": null,
      "overflow_x": null,
      "overflow_y": null,
      "padding": null,
      "right": null,
      "top": null,
      "visibility": null,
      "width": null
     }
    },
    "840544f958e3433e814714702eaf5374": {
     "model_module": "@jupyter-widgets/controls",
     "model_module_version": "1.5.0",
     "model_name": "DescriptionStyleModel",
     "state": {
      "_model_module": "@jupyter-widgets/controls",
      "_model_module_version": "1.5.0",
      "_model_name": "DescriptionStyleModel",
      "_view_count": null,
      "_view_module": "@jupyter-widgets/base",
      "_view_module_version": "1.2.0",
      "_view_name": "StyleView",
      "description_width": ""
     }
    },
    "8600c99efa9a4510987dc0d653243c98": {
     "model_module": "@jupyter-widgets/base",
     "model_module_version": "1.2.0",
     "model_name": "LayoutModel",
     "state": {
      "_model_module": "@jupyter-widgets/base",
      "_model_module_version": "1.2.0",
      "_model_name": "LayoutModel",
      "_view_count": null,
      "_view_module": "@jupyter-widgets/base",
      "_view_module_version": "1.2.0",
      "_view_name": "LayoutView",
      "align_content": null,
      "align_items": null,
      "align_self": null,
      "border": null,
      "bottom": null,
      "display": null,
      "flex": null,
      "flex_flow": null,
      "grid_area": null,
      "grid_auto_columns": null,
      "grid_auto_flow": null,
      "grid_auto_rows": null,
      "grid_column": null,
      "grid_gap": null,
      "grid_row": null,
      "grid_template_areas": null,
      "grid_template_columns": null,
      "grid_template_rows": null,
      "height": null,
      "justify_content": null,
      "justify_items": null,
      "left": null,
      "margin": null,
      "max_height": null,
      "max_width": null,
      "min_height": null,
      "min_width": null,
      "object_fit": null,
      "object_position": null,
      "order": null,
      "overflow": null,
      "overflow_x": null,
      "overflow_y": null,
      "padding": null,
      "right": null,
      "top": null,
      "visibility": null,
      "width": null
     }
    },
    "8cfda371cb7041c8a737052d2f450966": {
     "model_module": "@jupyter-widgets/controls",
     "model_module_version": "1.5.0",
     "model_name": "DescriptionStyleModel",
     "state": {
      "_model_module": "@jupyter-widgets/controls",
      "_model_module_version": "1.5.0",
      "_model_name": "DescriptionStyleModel",
      "_view_count": null,
      "_view_module": "@jupyter-widgets/base",
      "_view_module_version": "1.2.0",
      "_view_name": "StyleView",
      "description_width": ""
     }
    },
    "9a632ad01585467c88f78c2cb8cb16ad": {
     "model_module": "@jupyter-widgets/base",
     "model_module_version": "1.2.0",
     "model_name": "LayoutModel",
     "state": {
      "_model_module": "@jupyter-widgets/base",
      "_model_module_version": "1.2.0",
      "_model_name": "LayoutModel",
      "_view_count": null,
      "_view_module": "@jupyter-widgets/base",
      "_view_module_version": "1.2.0",
      "_view_name": "LayoutView",
      "align_content": null,
      "align_items": null,
      "align_self": null,
      "border": null,
      "bottom": null,
      "display": null,
      "flex": null,
      "flex_flow": null,
      "grid_area": null,
      "grid_auto_columns": null,
      "grid_auto_flow": null,
      "grid_auto_rows": null,
      "grid_column": null,
      "grid_gap": null,
      "grid_row": null,
      "grid_template_areas": null,
      "grid_template_columns": null,
      "grid_template_rows": null,
      "height": null,
      "justify_content": null,
      "justify_items": null,
      "left": null,
      "margin": null,
      "max_height": null,
      "max_width": null,
      "min_height": null,
      "min_width": null,
      "object_fit": null,
      "object_position": null,
      "order": null,
      "overflow": null,
      "overflow_x": null,
      "overflow_y": null,
      "padding": null,
      "right": null,
      "top": null,
      "visibility": null,
      "width": null
     }
    },
    "ad7f8ca8feea4b5aa3c4f384fd9b1fe6": {
     "model_module": "@jupyter-widgets/controls",
     "model_module_version": "1.5.0",
     "model_name": "ProgressStyleModel",
     "state": {
      "_model_module": "@jupyter-widgets/controls",
      "_model_module_version": "1.5.0",
      "_model_name": "ProgressStyleModel",
      "_view_count": null,
      "_view_module": "@jupyter-widgets/base",
      "_view_module_version": "1.2.0",
      "_view_name": "StyleView",
      "bar_color": null,
      "description_width": ""
     }
    },
    "ada4da4ed9ce4380bfc7f35c7efdb6e7": {
     "model_module": "@jupyter-widgets/controls",
     "model_module_version": "1.5.0",
     "model_name": "DescriptionStyleModel",
     "state": {
      "_model_module": "@jupyter-widgets/controls",
      "_model_module_version": "1.5.0",
      "_model_name": "DescriptionStyleModel",
      "_view_count": null,
      "_view_module": "@jupyter-widgets/base",
      "_view_module_version": "1.2.0",
      "_view_name": "StyleView",
      "description_width": ""
     }
    },
    "b12ecbc67c554578b696eb0327915282": {
     "model_module": "@jupyter-widgets/base",
     "model_module_version": "1.2.0",
     "model_name": "LayoutModel",
     "state": {
      "_model_module": "@jupyter-widgets/base",
      "_model_module_version": "1.2.0",
      "_model_name": "LayoutModel",
      "_view_count": null,
      "_view_module": "@jupyter-widgets/base",
      "_view_module_version": "1.2.0",
      "_view_name": "LayoutView",
      "align_content": null,
      "align_items": null,
      "align_self": null,
      "border": null,
      "bottom": null,
      "display": null,
      "flex": null,
      "flex_flow": null,
      "grid_area": null,
      "grid_auto_columns": null,
      "grid_auto_flow": null,
      "grid_auto_rows": null,
      "grid_column": null,
      "grid_gap": null,
      "grid_row": null,
      "grid_template_areas": null,
      "grid_template_columns": null,
      "grid_template_rows": null,
      "height": null,
      "justify_content": null,
      "justify_items": null,
      "left": null,
      "margin": null,
      "max_height": null,
      "max_width": null,
      "min_height": null,
      "min_width": null,
      "object_fit": null,
      "object_position": null,
      "order": null,
      "overflow": null,
      "overflow_x": null,
      "overflow_y": null,
      "padding": null,
      "right": null,
      "top": null,
      "visibility": null,
      "width": null
     }
    },
    "b1ab92c25ac1449b9debdfecf7c6e3b1": {
     "model_module": "@jupyter-widgets/controls",
     "model_module_version": "1.5.0",
     "model_name": "FloatProgressModel",
     "state": {
      "_dom_classes": [],
      "_model_module": "@jupyter-widgets/controls",
      "_model_module_version": "1.5.0",
      "_model_name": "FloatProgressModel",
      "_view_count": null,
      "_view_module": "@jupyter-widgets/controls",
      "_view_module_version": "1.5.0",
      "_view_name": "ProgressView",
      "bar_style": "danger",
      "description": "",
      "description_tooltip": null,
      "layout": "IPY_MODEL_b12ecbc67c554578b696eb0327915282",
      "max": 1000,
      "min": 0,
      "orientation": "horizontal",
      "style": "IPY_MODEL_fc7d6639af4d4e87a35444ac2e02c907",
      "value": 200
     }
    },
    "b4554396bcec4be0919031f2f75a9cc0": {
     "model_module": "@jupyter-widgets/controls",
     "model_module_version": "1.5.0",
     "model_name": "FloatProgressModel",
     "state": {
      "_dom_classes": [],
      "_model_module": "@jupyter-widgets/controls",
      "_model_module_version": "1.5.0",
      "_model_name": "FloatProgressModel",
      "_view_count": null,
      "_view_module": "@jupyter-widgets/controls",
      "_view_module_version": "1.5.0",
      "_view_name": "ProgressView",
      "bar_style": "success",
      "description": "",
      "description_tooltip": null,
      "layout": "IPY_MODEL_9a632ad01585467c88f78c2cb8cb16ad",
      "max": 8311,
      "min": 0,
      "orientation": "horizontal",
      "style": "IPY_MODEL_ad7f8ca8feea4b5aa3c4f384fd9b1fe6",
      "value": 8311
     }
    },
    "ba7b54f9a196454a8ce7d4170b42d970": {
     "model_module": "@jupyter-widgets/controls",
     "model_module_version": "1.5.0",
     "model_name": "DescriptionStyleModel",
     "state": {
      "_model_module": "@jupyter-widgets/controls",
      "_model_module_version": "1.5.0",
      "_model_name": "DescriptionStyleModel",
      "_view_count": null,
      "_view_module": "@jupyter-widgets/base",
      "_view_module_version": "1.2.0",
      "_view_name": "StyleView",
      "description_width": ""
     }
    },
    "cc362ac2a8124c0e83861cad0cace327": {
     "model_module": "@jupyter-widgets/base",
     "model_module_version": "1.2.0",
     "model_name": "LayoutModel",
     "state": {
      "_model_module": "@jupyter-widgets/base",
      "_model_module_version": "1.2.0",
      "_model_name": "LayoutModel",
      "_view_count": null,
      "_view_module": "@jupyter-widgets/base",
      "_view_module_version": "1.2.0",
      "_view_name": "LayoutView",
      "align_content": null,
      "align_items": null,
      "align_self": null,
      "border": null,
      "bottom": null,
      "display": null,
      "flex": null,
      "flex_flow": null,
      "grid_area": null,
      "grid_auto_columns": null,
      "grid_auto_flow": null,
      "grid_auto_rows": null,
      "grid_column": null,
      "grid_gap": null,
      "grid_row": null,
      "grid_template_areas": null,
      "grid_template_columns": null,
      "grid_template_rows": null,
      "height": null,
      "justify_content": null,
      "justify_items": null,
      "left": null,
      "margin": null,
      "max_height": null,
      "max_width": null,
      "min_height": null,
      "min_width": null,
      "object_fit": null,
      "object_position": null,
      "order": null,
      "overflow": null,
      "overflow_x": null,
      "overflow_y": null,
      "padding": null,
      "right": null,
      "top": null,
      "visibility": null,
      "width": null
     }
    },
    "d93096863b9845d2b5c29832a0a68035": {
     "model_module": "@jupyter-widgets/controls",
     "model_module_version": "1.5.0",
     "model_name": "HBoxModel",
     "state": {
      "_dom_classes": [],
      "_model_module": "@jupyter-widgets/controls",
      "_model_module_version": "1.5.0",
      "_model_name": "HBoxModel",
      "_view_count": null,
      "_view_module": "@jupyter-widgets/controls",
      "_view_module_version": "1.5.0",
      "_view_name": "HBoxView",
      "box_style": "",
      "children": [
       "IPY_MODEL_3c50174aae0c44259ebba1a28f18044e",
       "IPY_MODEL_b4554396bcec4be0919031f2f75a9cc0",
       "IPY_MODEL_10449cf9f0c84d14a895bb6bf62c750f"
      ],
      "layout": "IPY_MODEL_8600c99efa9a4510987dc0d653243c98"
     }
    },
    "eab3617fa0534b35a6b95b647ed4719d": {
     "model_module": "@jupyter-widgets/base",
     "model_module_version": "1.2.0",
     "model_name": "LayoutModel",
     "state": {
      "_model_module": "@jupyter-widgets/base",
      "_model_module_version": "1.2.0",
      "_model_name": "LayoutModel",
      "_view_count": null,
      "_view_module": "@jupyter-widgets/base",
      "_view_module_version": "1.2.0",
      "_view_name": "LayoutView",
      "align_content": null,
      "align_items": null,
      "align_self": null,
      "border": null,
      "bottom": null,
      "display": null,
      "flex": null,
      "flex_flow": null,
      "grid_area": null,
      "grid_auto_columns": null,
      "grid_auto_flow": null,
      "grid_auto_rows": null,
      "grid_column": null,
      "grid_gap": null,
      "grid_row": null,
      "grid_template_areas": null,
      "grid_template_columns": null,
      "grid_template_rows": null,
      "height": null,
      "justify_content": null,
      "justify_items": null,
      "left": null,
      "margin": null,
      "max_height": null,
      "max_width": null,
      "min_height": null,
      "min_width": null,
      "object_fit": null,
      "object_position": null,
      "order": null,
      "overflow": null,
      "overflow_x": null,
      "overflow_y": null,
      "padding": null,
      "right": null,
      "top": null,
      "visibility": null,
      "width": null
     }
    },
    "f2bda8a268cb414ebff8d5d373639439": {
     "model_module": "@jupyter-widgets/base",
     "model_module_version": "1.2.0",
     "model_name": "LayoutModel",
     "state": {
      "_model_module": "@jupyter-widgets/base",
      "_model_module_version": "1.2.0",
      "_model_name": "LayoutModel",
      "_view_count": null,
      "_view_module": "@jupyter-widgets/base",
      "_view_module_version": "1.2.0",
      "_view_name": "LayoutView",
      "align_content": null,
      "align_items": null,
      "align_self": null,
      "border": null,
      "bottom": null,
      "display": null,
      "flex": null,
      "flex_flow": null,
      "grid_area": null,
      "grid_auto_columns": null,
      "grid_auto_flow": null,
      "grid_auto_rows": null,
      "grid_column": null,
      "grid_gap": null,
      "grid_row": null,
      "grid_template_areas": null,
      "grid_template_columns": null,
      "grid_template_rows": null,
      "height": null,
      "justify_content": null,
      "justify_items": null,
      "left": null,
      "margin": null,
      "max_height": null,
      "max_width": null,
      "min_height": null,
      "min_width": null,
      "object_fit": null,
      "object_position": null,
      "order": null,
      "overflow": null,
      "overflow_x": null,
      "overflow_y": null,
      "padding": null,
      "right": null,
      "top": null,
      "visibility": null,
      "width": null
     }
    },
    "fc7d6639af4d4e87a35444ac2e02c907": {
     "model_module": "@jupyter-widgets/controls",
     "model_module_version": "1.5.0",
     "model_name": "ProgressStyleModel",
     "state": {
      "_model_module": "@jupyter-widgets/controls",
      "_model_module_version": "1.5.0",
      "_model_name": "ProgressStyleModel",
      "_view_count": null,
      "_view_module": "@jupyter-widgets/base",
      "_view_module_version": "1.2.0",
      "_view_name": "StyleView",
      "bar_color": null,
      "description_width": ""
     }
    }
   }
  }
 },
 "nbformat": 4,
 "nbformat_minor": 4
}
